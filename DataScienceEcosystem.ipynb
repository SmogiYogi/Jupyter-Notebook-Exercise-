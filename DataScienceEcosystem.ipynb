{
 "cells": [
  {
   "cell_type": "markdown",
   "id": "51b0d173-985d-458f-9131-0e709f9b7094",
   "metadata": {
    "tags": []
   },
   "source": [
    "# Data Science Tools and Ecosystem\n",
    "\n"
   ]
  },
  {
   "cell_type": "markdown",
   "id": "df32d7f5-c8f0-4553-b51c-c987c1261c86",
   "metadata": {
    "tags": []
   },
   "source": [
    "### In this notebook, Data Science Tools and Ecosystem are summarized."
   ]
  },
  {
   "cell_type": "markdown",
   "id": "f9746afc-58fb-4d8b-a151-0deb1728bcb2",
   "metadata": {
    "tags": []
   },
   "source": [
    "### Some of the popular languages that Data Scientists use are:\n",
    "\n",
    "1. Python\n",
    "2. R \n",
    "3. Java\n",
    "4. C++\n"
   ]
  },
  {
   "cell_type": "markdown",
   "id": "928e96e9-095e-4b58-b3e4-c0528e0520b3",
   "metadata": {},
   "source": [
    "### Data Science Tools and Ecosystem Overview\n",
    "\n",
    "Some of the commonly used libraries by Data Scientists include:\n",
    "\n",
    "1. Pandas\n",
    "2. NumPy\n",
    "3. Scikit-Learn\n",
    "4. TensorFlow\n"
   ]
  },
  {
   "cell_type": "markdown",
   "id": "ffa46c47-8a69-427f-ae0f-793d54502f90",
   "metadata": {},
   "source": [
    "### Data science tools\n",
    "1. Jupyter Notebooks#\n",
    "2. RStudio\n",
    "3. VS Code"
   ]
  },
  {
   "cell_type": "markdown",
   "id": "bac57244-50cf-464f-805a-a244d20ae056",
   "metadata": {},
   "source": [
    "### Below are a few examples of evaluating arithmetic expressions in Python"
   ]
  },
  {
   "cell_type": "markdown",
   "id": "3fcaed03-7e75-4e7d-8650-c5f310ee7791",
   "metadata": {
    "tags": []
   },
   "source": [
    "#### This a simple arithmetic expression to mutiply then add integers"
   ]
  },
  {
   "cell_type": "code",
   "execution_count": 23,
   "id": "6f5240a5-7cba-4e2e-b9d9-e203212d4d8f",
   "metadata": {},
   "outputs": [
    {
     "data": {
      "text/plain": [
       "17"
      ]
     },
     "execution_count": 23,
     "metadata": {},
     "output_type": "execute_result"
    }
   ],
   "source": [
    "int((3*4)+5)"
   ]
  },
  {
   "cell_type": "markdown",
   "id": "5c413131-b4b9-4447-a998-22aed96e9ff9",
   "metadata": {},
   "source": [
    "#### This will convert 200 minutes to hours by diving by 60"
   ]
  },
  {
   "cell_type": "code",
   "execution_count": 32,
   "id": "807d6462-8534-4e84-8ada-6dedad24c5fb",
   "metadata": {},
   "outputs": [
    {
     "data": {
      "text/plain": [
       "3.3333333333333335"
      ]
     },
     "execution_count": 32,
     "metadata": {},
     "output_type": "execute_result"
    }
   ],
   "source": [
    "float(200/60)"
   ]
  },
  {
   "cell_type": "markdown",
   "id": "88e60ef8-dceb-4692-b512-ccb8e131167a",
   "metadata": {},
   "source": [
    "**Objectives:**\n",
    "\n",
    "- Explore popular languages for Data Science.\n",
    "- Introduce essential libraries commonly used in Data Science.\n",
    "- Understand the role of open-source development environments.\n",
    "- Learn about version control and collaboration using Git and GitHub.\n"
   ]
  },
  {
   "cell_type": "markdown",
   "id": "0d902e13-6f06-4970-a425-1cc9e53f0f83",
   "metadata": {},
   "source": [
    "## Author\n",
    "Georgios Tsipi"
   ]
  },
  {
   "cell_type": "code",
   "execution_count": null,
   "id": "bae39a8a-b2fe-4768-bb0a-a9686e563b05",
   "metadata": {},
   "outputs": [],
   "source": []
  }
 ],
 "metadata": {
  "kernelspec": {
   "display_name": "anaconda-panel-2023.05-py310",
   "language": "python",
   "name": "conda-env-anaconda-panel-2023.05-py310-py"
  },
  "language_info": {
   "codemirror_mode": {
    "name": "ipython",
    "version": 3
   },
   "file_extension": ".py",
   "mimetype": "text/x-python",
   "name": "python",
   "nbconvert_exporter": "python",
   "pygments_lexer": "ipython3",
   "version": "3.11.5"
  }
 },
 "nbformat": 4,
 "nbformat_minor": 5
}
